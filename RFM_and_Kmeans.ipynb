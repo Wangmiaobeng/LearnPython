{
 "cells": [
  {
   "cell_type": "markdown",
   "metadata": {},
   "source": [
    "# Load Packages"
   ]
  },
  {
   "cell_type": "code",
   "execution_count": 135,
   "metadata": {},
   "outputs": [
    {
     "name": "stdout",
     "output_type": "stream",
     "text": [
      "The lab_black extension is already loaded. To reload it, use:\n",
      "  %reload_ext lab_black\n",
      "The autotime extension is already loaded. To reload it, use:\n",
      "  %reload_ext autotime\n",
      "time: 36 ms\n"
     ]
    }
   ],
   "source": [
    "%load_ext lab_black\n",
    "%load_ext autotime\n",
    "%matplotlib inline\n",
    "from IPython import InteractiveShell\n",
    "\n",
    "InteractiveShell.ast_node_interactivity = \"all\"\n",
    "\n",
    "import warnings\n",
    "\n",
    "warnings.filterwarnings(\"ignore\")\n",
    "\n",
    "import numpy as np\n",
    "import pandas as pd\n",
    "\n",
    "pd.set_option(\"display.max_colwidth\", 300)\n",
    "pd.options.display.max_columns = None\n",
    "\n",
    "from sklearn.preprocessing import StandardScaler\n",
    "import pandas_profiling\n",
    "from sklearn.cluster import KMeans, DBSCAN, AgglomerativeClustering\n",
    "from sklearn.metrics import silhouette_score, silhouette_samples\n",
    "import matplotlib.pyplot as plt\n",
    "import itertools\n",
    "import scipy\n",
    "import matplotlib as mpl"
   ]
  },
  {
   "cell_type": "markdown",
   "metadata": {},
   "source": [
    "# Load data"
   ]
  },
  {
   "cell_type": "code",
   "execution_count": 2,
   "metadata": {},
   "outputs": [
    {
     "name": "stdout",
     "output_type": "stream",
     "text": [
      "time: 488 ms\n"
     ]
    }
   ],
   "source": [
    "df_order = pd.read_csv(\"audiences_orders_casestudy.csv\")"
   ]
  },
  {
   "cell_type": "code",
   "execution_count": 3,
   "metadata": {},
   "outputs": [
    {
     "name": "stdout",
     "output_type": "stream",
     "text": [
      "time: 2.87 s\n"
     ]
    }
   ],
   "source": [
    "df_basket = pd.read_csv(\"audiences_basket_casestudy.csv\")"
   ]
  },
  {
   "cell_type": "code",
   "execution_count": 52,
   "metadata": {},
   "outputs": [
    {
     "data": {
      "text/html": [
       "<div>\n",
       "<style scoped>\n",
       "    .dataframe tbody tr th:only-of-type {\n",
       "        vertical-align: middle;\n",
       "    }\n",
       "\n",
       "    .dataframe tbody tr th {\n",
       "        vertical-align: top;\n",
       "    }\n",
       "\n",
       "    .dataframe thead th {\n",
       "        text-align: right;\n",
       "    }\n",
       "</style>\n",
       "<table border=\"1\" class=\"dataframe\">\n",
       "  <thead>\n",
       "    <tr style=\"text-align: right;\">\n",
       "      <th></th>\n",
       "      <th>order_date</th>\n",
       "      <th>order_number</th>\n",
       "      <th>order_sales</th>\n",
       "      <th>channel</th>\n",
       "      <th>store_banner</th>\n",
       "      <th>cx_id</th>\n",
       "    </tr>\n",
       "  </thead>\n",
       "  <tbody>\n",
       "    <tr>\n",
       "      <th>0</th>\n",
       "      <td>2019-11-01</td>\n",
       "      <td>20191101|1001|1|1467</td>\n",
       "      <td>48.61</td>\n",
       "      <td>in-store</td>\n",
       "      <td>Loblaw</td>\n",
       "      <td>111311278077</td>\n",
       "    </tr>\n",
       "    <tr>\n",
       "      <th>1</th>\n",
       "      <td>2019-11-01</td>\n",
       "      <td>20191101|1010|56|1346</td>\n",
       "      <td>38.31</td>\n",
       "      <td>in-store</td>\n",
       "      <td>Loblaw</td>\n",
       "      <td>111247345357</td>\n",
       "    </tr>\n",
       "    <tr>\n",
       "      <th>2</th>\n",
       "      <td>2019-11-01</td>\n",
       "      <td>20191101|1040|9|5041</td>\n",
       "      <td>58.70</td>\n",
       "      <td>in-store</td>\n",
       "      <td>Loblaw</td>\n",
       "      <td>111347927977</td>\n",
       "    </tr>\n",
       "    <tr>\n",
       "      <th>3</th>\n",
       "      <td>2019-11-01</td>\n",
       "      <td>20191101|1099|1|3785</td>\n",
       "      <td>1.80</td>\n",
       "      <td>in-store</td>\n",
       "      <td>Loblaw</td>\n",
       "      <td>111142985927</td>\n",
       "    </tr>\n",
       "    <tr>\n",
       "      <th>4</th>\n",
       "      <td>2019-11-02</td>\n",
       "      <td>20191102|1004|23|9338</td>\n",
       "      <td>51.24</td>\n",
       "      <td>in-store</td>\n",
       "      <td>Loblaw</td>\n",
       "      <td>111277101457</td>\n",
       "    </tr>\n",
       "  </tbody>\n",
       "</table>\n",
       "</div>"
      ],
      "text/plain": [
       "   order_date           order_number  order_sales   channel store_banner  \\\n",
       "0  2019-11-01   20191101|1001|1|1467        48.61  in-store       Loblaw   \n",
       "1  2019-11-01  20191101|1010|56|1346        38.31  in-store       Loblaw   \n",
       "2  2019-11-01   20191101|1040|9|5041        58.70  in-store       Loblaw   \n",
       "3  2019-11-01   20191101|1099|1|3785         1.80  in-store       Loblaw   \n",
       "4  2019-11-02  20191102|1004|23|9338        51.24  in-store       Loblaw   \n",
       "\n",
       "          cx_id  \n",
       "0  111311278077  \n",
       "1  111247345357  \n",
       "2  111347927977  \n",
       "3  111142985927  \n",
       "4  111277101457  "
      ]
     },
     "execution_count": 52,
     "metadata": {},
     "output_type": "execute_result"
    },
    {
     "name": "stdout",
     "output_type": "stream",
     "text": [
      "time: 16 ms\n"
     ]
    }
   ],
   "source": [
    "df_order.head()"
   ]
  },
  {
   "cell_type": "code",
   "execution_count": 117,
   "metadata": {},
   "outputs": [
    {
     "name": "stdout",
     "output_type": "stream",
     "text": [
      "time: 92 ms\n"
     ]
    }
   ],
   "source": [
    "df_online = df_order[df_order.channel == \"online\"]\n",
    "df_in_store = df_order[df_order.channel == \"in-store\"]"
   ]
  },
  {
   "cell_type": "markdown",
   "metadata": {},
   "source": [
    "# RFM clustering"
   ]
  },
  {
   "cell_type": "markdown",
   "metadata": {},
   "source": [
    "## create RFM table"
   ]
  },
  {
   "cell_type": "code",
   "execution_count": 118,
   "metadata": {},
   "outputs": [
    {
     "data": {
      "text/html": [
       "<div>\n",
       "<style scoped>\n",
       "    .dataframe tbody tr th:only-of-type {\n",
       "        vertical-align: middle;\n",
       "    }\n",
       "\n",
       "    .dataframe tbody tr th {\n",
       "        vertical-align: top;\n",
       "    }\n",
       "\n",
       "    .dataframe thead th {\n",
       "        text-align: right;\n",
       "    }\n",
       "</style>\n",
       "<table border=\"1\" class=\"dataframe\">\n",
       "  <thead>\n",
       "    <tr style=\"text-align: right;\">\n",
       "      <th></th>\n",
       "      <th>recency</th>\n",
       "      <th>frequency</th>\n",
       "      <th>monetary_value</th>\n",
       "    </tr>\n",
       "    <tr>\n",
       "      <th>cx_id</th>\n",
       "      <th></th>\n",
       "      <th></th>\n",
       "      <th></th>\n",
       "    </tr>\n",
       "  </thead>\n",
       "  <tbody>\n",
       "    <tr>\n",
       "      <th>110000818067</th>\n",
       "      <td>3</td>\n",
       "      <td>30</td>\n",
       "      <td>1771.43</td>\n",
       "    </tr>\n",
       "    <tr>\n",
       "      <th>110002240717</th>\n",
       "      <td>2</td>\n",
       "      <td>48</td>\n",
       "      <td>3617.13</td>\n",
       "    </tr>\n",
       "    <tr>\n",
       "      <th>110004432917</th>\n",
       "      <td>1</td>\n",
       "      <td>20</td>\n",
       "      <td>1154.84</td>\n",
       "    </tr>\n",
       "    <tr>\n",
       "      <th>110005261047</th>\n",
       "      <td>3</td>\n",
       "      <td>49</td>\n",
       "      <td>1807.20</td>\n",
       "    </tr>\n",
       "    <tr>\n",
       "      <th>110005354477</th>\n",
       "      <td>3</td>\n",
       "      <td>6</td>\n",
       "      <td>491.09</td>\n",
       "    </tr>\n",
       "  </tbody>\n",
       "</table>\n",
       "</div>"
      ],
      "text/plain": [
       "              recency  frequency  monetary_value\n",
       "cx_id                                           \n",
       "110000818067        3         30         1771.43\n",
       "110002240717        2         48         3617.13\n",
       "110004432917        1         20         1154.84\n",
       "110005261047        3         49         1807.20\n",
       "110005354477        3          6          491.09"
      ]
     },
     "execution_count": 118,
     "metadata": {},
     "output_type": "execute_result"
    },
    {
     "name": "stdout",
     "output_type": "stream",
     "text": [
      "<class 'pandas.core.frame.DataFrame'>\n",
      "Int64Index: 6985 entries, 110000818067 to 111495970257\n",
      "Data columns (total 3 columns):\n",
      "recency           6985 non-null int32\n",
      "frequency         6985 non-null int64\n",
      "monetary_value    6985 non-null float64\n",
      "dtypes: float64(1), int32(1), int64(1)\n",
      "memory usage: 191.0 KB\n",
      "time: 1.7 s\n"
     ]
    }
   ],
   "source": [
    "rfmTable = df_in_store.groupby(\"cx_id\").agg(\n",
    "    {\n",
    "        \"order_date\": lambda x: (Day_baseline - x.max()).days,\n",
    "        \"order_number\": lambda x: len(x),\n",
    "        \"order_sales\": lambda x: x.sum(),\n",
    "    }\n",
    ")\n",
    "rfmTable[\"order_date\"] = rfmTable[\"order_date\"].astype(int)\n",
    "rfmTable.rename(\n",
    "    columns={\n",
    "        \"order_date\": \"recency\",\n",
    "        \"order_number\": \"frequency\",\n",
    "        \"order_sales\": \"monetary_value\",\n",
    "    },\n",
    "    inplace=True,\n",
    ")\n",
    "rfmTable.head()\n",
    "rfmTable.info()"
   ]
  },
  {
   "cell_type": "markdown",
   "metadata": {},
   "source": [
    "## Normalize the Data"
   ]
  },
  {
   "cell_type": "code",
   "execution_count": 119,
   "metadata": {},
   "outputs": [
    {
     "data": {
      "text/html": [
       "<div>\n",
       "<style scoped>\n",
       "    .dataframe tbody tr th:only-of-type {\n",
       "        vertical-align: middle;\n",
       "    }\n",
       "\n",
       "    .dataframe tbody tr th {\n",
       "        vertical-align: top;\n",
       "    }\n",
       "\n",
       "    .dataframe thead th {\n",
       "        text-align: right;\n",
       "    }\n",
       "</style>\n",
       "<table border=\"1\" class=\"dataframe\">\n",
       "  <thead>\n",
       "    <tr style=\"text-align: right;\">\n",
       "      <th></th>\n",
       "      <th>recency</th>\n",
       "      <th>frequency</th>\n",
       "      <th>monetary_value</th>\n",
       "    </tr>\n",
       "    <tr>\n",
       "      <th>cx_id</th>\n",
       "      <th></th>\n",
       "      <th></th>\n",
       "      <th></th>\n",
       "    </tr>\n",
       "  </thead>\n",
       "  <tbody>\n",
       "    <tr>\n",
       "      <th>110000818067</th>\n",
       "      <td>3</td>\n",
       "      <td>30</td>\n",
       "      <td>1771.43</td>\n",
       "    </tr>\n",
       "    <tr>\n",
       "      <th>110002240717</th>\n",
       "      <td>2</td>\n",
       "      <td>48</td>\n",
       "      <td>3617.13</td>\n",
       "    </tr>\n",
       "    <tr>\n",
       "      <th>110004432917</th>\n",
       "      <td>1</td>\n",
       "      <td>20</td>\n",
       "      <td>1154.84</td>\n",
       "    </tr>\n",
       "    <tr>\n",
       "      <th>110005261047</th>\n",
       "      <td>3</td>\n",
       "      <td>49</td>\n",
       "      <td>1807.20</td>\n",
       "    </tr>\n",
       "    <tr>\n",
       "      <th>110005354477</th>\n",
       "      <td>3</td>\n",
       "      <td>6</td>\n",
       "      <td>491.09</td>\n",
       "    </tr>\n",
       "  </tbody>\n",
       "</table>\n",
       "</div>"
      ],
      "text/plain": [
       "              recency  frequency  monetary_value\n",
       "cx_id                                           \n",
       "110000818067        3         30         1771.43\n",
       "110002240717        2         48         3617.13\n",
       "110004432917        1         20         1154.84\n",
       "110005261047        3         49         1807.20\n",
       "110005354477        3          6          491.09"
      ]
     },
     "execution_count": 119,
     "metadata": {},
     "output_type": "execute_result"
    },
    {
     "name": "stdout",
     "output_type": "stream",
     "text": [
      "time: 8 ms\n"
     ]
    }
   ],
   "source": [
    "X = rfmTable.copy()\n",
    "X.head()"
   ]
  },
  {
   "cell_type": "code",
   "execution_count": 120,
   "metadata": {},
   "outputs": [
    {
     "data": {
      "text/html": [
       "<div>\n",
       "<style scoped>\n",
       "    .dataframe tbody tr th:only-of-type {\n",
       "        vertical-align: middle;\n",
       "    }\n",
       "\n",
       "    .dataframe tbody tr th {\n",
       "        vertical-align: top;\n",
       "    }\n",
       "\n",
       "    .dataframe thead th {\n",
       "        text-align: right;\n",
       "    }\n",
       "</style>\n",
       "<table border=\"1\" class=\"dataframe\">\n",
       "  <thead>\n",
       "    <tr style=\"text-align: right;\">\n",
       "      <th></th>\n",
       "      <th>recency</th>\n",
       "      <th>frequency</th>\n",
       "      <th>monetary_value</th>\n",
       "    </tr>\n",
       "    <tr>\n",
       "      <th>cx_id</th>\n",
       "      <th></th>\n",
       "      <th></th>\n",
       "      <th></th>\n",
       "    </tr>\n",
       "  </thead>\n",
       "  <tbody>\n",
       "    <tr>\n",
       "      <th>110000818067</th>\n",
       "      <td>0.269628</td>\n",
       "      <td>-0.358426</td>\n",
       "      <td>-0.157438</td>\n",
       "    </tr>\n",
       "    <tr>\n",
       "      <th>110002240717</th>\n",
       "      <td>0.071401</td>\n",
       "      <td>0.150368</td>\n",
       "      <td>0.665497</td>\n",
       "    </tr>\n",
       "    <tr>\n",
       "      <th>110004432917</th>\n",
       "      <td>-0.126825</td>\n",
       "      <td>-0.641089</td>\n",
       "      <td>-0.432354</td>\n",
       "    </tr>\n",
       "    <tr>\n",
       "      <th>110005261047</th>\n",
       "      <td>0.269628</td>\n",
       "      <td>0.178634</td>\n",
       "      <td>-0.141489</td>\n",
       "    </tr>\n",
       "    <tr>\n",
       "      <th>110005354477</th>\n",
       "      <td>0.269628</td>\n",
       "      <td>-1.036818</td>\n",
       "      <td>-0.728298</td>\n",
       "    </tr>\n",
       "  </tbody>\n",
       "</table>\n",
       "</div>"
      ],
      "text/plain": [
       "               recency  frequency  monetary_value\n",
       "cx_id                                            \n",
       "110000818067  0.269628  -0.358426       -0.157438\n",
       "110002240717  0.071401   0.150368        0.665497\n",
       "110004432917 -0.126825  -0.641089       -0.432354\n",
       "110005261047  0.269628   0.178634       -0.141489\n",
       "110005354477  0.269628  -1.036818       -0.728298"
      ]
     },
     "execution_count": 120,
     "metadata": {},
     "output_type": "execute_result"
    },
    {
     "name": "stdout",
     "output_type": "stream",
     "text": [
      "time: 20 ms\n"
     ]
    }
   ],
   "source": [
    "# X.monetary_value=np.log(X.monetary_value)\n",
    "scaler = StandardScaler()\n",
    "features = [\"recency\", \"frequency\", \"monetary_value\"]\n",
    "X[features] = scaler.fit_transform(X[features])\n",
    "X.head()"
   ]
  },
  {
   "cell_type": "markdown",
   "metadata": {},
   "source": [
    "## Elbow Method to find the best cluster number"
   ]
  },
  {
   "cell_type": "code",
   "execution_count": 139,
   "metadata": {},
   "outputs": [
    {
     "data": {
      "text/plain": [
       "<Figure size 432x288 with 0 Axes>"
      ]
     },
     "execution_count": 139,
     "metadata": {},
     "output_type": "execute_result"
    },
    {
     "data": {
      "text/plain": [
       "[<matplotlib.lines.Line2D at 0x173478fa2c8>]"
      ]
     },
     "execution_count": 139,
     "metadata": {},
     "output_type": "execute_result"
    },
    {
     "data": {
      "text/plain": [
       "Text(0.5, 1.0, 'kmeans, Elbow Method')"
      ]
     },
     "execution_count": 139,
     "metadata": {},
     "output_type": "execute_result"
    },
    {
     "data": {
      "text/plain": [
       "Text(0.5, 0, 'Number of clusters, K')"
      ]
     },
     "execution_count": 139,
     "metadata": {},
     "output_type": "execute_result"
    },
    {
     "data": {
      "text/plain": [
       "Text(0, 0.5, 'Silhouette')"
      ]
     },
     "execution_count": 139,
     "metadata": {},
     "output_type": "execute_result"
    },
    {
     "data": {
      "image/png": "[encoded data removed]",
      "text/plain": [
       "<Figure size 432x288 with 1 Axes>"
      ]
     },
     "metadata": {
      "needs_background": "light"
     },
     "output_type": "display_data"
    },
    {
     "name": "stdout",
     "output_type": "stream",
     "text": [
      "time: 13.1 s\n"
     ]
    }
   ],
   "source": [
    "silhouettes = {}\n",
    "for k in range(2, 11):\n",
    "    kmeans = KMeans(n_clusters=k).fit(X)\n",
    "    silhouettes[k] = silhouette_score(X, kmeans.labels_)\n",
    "\n",
    "plt.figure()\n",
    "plt.grid(True)\n",
    "plt.plot(list(silhouettes.keys()), list(silhouettes.values()))\n",
    "plt.title(\"kmeans, Elbow Method\")\n",
    "plt.xlabel(\"Number of clusters, K\")\n",
    "plt.ylabel(\"Silhouette\")"
   ]
  },
  {
   "cell_type": "markdown",
   "metadata": {},
   "source": [
    "## 3 is the best"
   ]
  },
  {
   "cell_type": "code",
   "execution_count": 175,
   "metadata": {},
   "outputs": [
    {
     "name": "stdout",
     "output_type": "stream",
     "text": [
      "time: 84 ms\n"
     ]
    }
   ],
   "source": [
    "kmeans = KMeans(n_clusters=3).fit(X)"
   ]
  },
  {
   "cell_type": "code",
   "execution_count": 178,
   "metadata": {},
   "outputs": [
    {
     "data": {
      "text/plain": [
       "array([0, 2, 0, ..., 0, 0, 0])"
      ]
     },
     "execution_count": 178,
     "metadata": {},
     "output_type": "execute_result"
    },
    {
     "name": "stdout",
     "output_type": "stream",
     "text": [
      "time: 3.97 ms\n"
     ]
    }
   ],
   "source": [
    "kmeans.labels_"
   ]
  },
  {
   "cell_type": "code",
   "execution_count": 179,
   "metadata": {},
   "outputs": [
    {
     "name": "stdout",
     "output_type": "stream",
     "text": [
      "time: 8 ms\n"
     ]
    }
   ],
   "source": [
    "X[\"label\"] = kmeans.labels_\n",
    "rfmTable[\"label\"] = kmeans.labels_"
   ]
  },
  {
   "cell_type": "code",
   "execution_count": 181,
   "metadata": {},
   "outputs": [
    {
     "data": {
      "text/html": [
       "<div>\n",
       "<style scoped>\n",
       "    .dataframe tbody tr th:only-of-type {\n",
       "        vertical-align: middle;\n",
       "    }\n",
       "\n",
       "    .dataframe tbody tr th {\n",
       "        vertical-align: top;\n",
       "    }\n",
       "\n",
       "    .dataframe thead th {\n",
       "        text-align: right;\n",
       "    }\n",
       "</style>\n",
       "<table border=\"1\" class=\"dataframe\">\n",
       "  <thead>\n",
       "    <tr style=\"text-align: right;\">\n",
       "      <th></th>\n",
       "      <th>recency</th>\n",
       "      <th>frequency</th>\n",
       "      <th>monetary_value</th>\n",
       "      <th>label</th>\n",
       "    </tr>\n",
       "  </thead>\n",
       "  <tbody>\n",
       "    <tr>\n",
       "      <th>count</th>\n",
       "      <td>5427.000000</td>\n",
       "      <td>5427.000000</td>\n",
       "      <td>5427.000000</td>\n",
       "      <td>5427.0</td>\n",
       "    </tr>\n",
       "    <tr>\n",
       "      <th>mean</th>\n",
       "      <td>1.454763</td>\n",
       "      <td>33.292980</td>\n",
       "      <td>1393.055228</td>\n",
       "      <td>0.0</td>\n",
       "    </tr>\n",
       "    <tr>\n",
       "      <th>std</th>\n",
       "      <td>1.169527</td>\n",
       "      <td>28.780248</td>\n",
       "      <td>1223.427470</td>\n",
       "      <td>0.0</td>\n",
       "    </tr>\n",
       "    <tr>\n",
       "      <th>min</th>\n",
       "      <td>0.000000</td>\n",
       "      <td>1.000000</td>\n",
       "      <td>-73.390000</td>\n",
       "      <td>0.0</td>\n",
       "    </tr>\n",
       "    <tr>\n",
       "      <th>25%</th>\n",
       "      <td>0.000000</td>\n",
       "      <td>14.000000</td>\n",
       "      <td>488.425000</td>\n",
       "      <td>0.0</td>\n",
       "    </tr>\n",
       "    <tr>\n",
       "      <th>50%</th>\n",
       "      <td>1.000000</td>\n",
       "      <td>28.000000</td>\n",
       "      <td>1078.040000</td>\n",
       "      <td>0.0</td>\n",
       "    </tr>\n",
       "    <tr>\n",
       "      <th>75%</th>\n",
       "      <td>2.000000</td>\n",
       "      <td>45.000000</td>\n",
       "      <td>1997.197500</td>\n",
       "      <td>0.0</td>\n",
       "    </tr>\n",
       "    <tr>\n",
       "      <th>max</th>\n",
       "      <td>12.000000</td>\n",
       "      <td>231.000000</td>\n",
       "      <td>9029.767000</td>\n",
       "      <td>0.0</td>\n",
       "    </tr>\n",
       "  </tbody>\n",
       "</table>\n",
       "</div>"
      ],
      "text/plain": [
       "           recency    frequency  monetary_value   label\n",
       "count  5427.000000  5427.000000     5427.000000  5427.0\n",
       "mean      1.454763    33.292980     1393.055228     0.0\n",
       "std       1.169527    28.780248     1223.427470     0.0\n",
       "min       0.000000     1.000000      -73.390000     0.0\n",
       "25%       0.000000    14.000000      488.425000     0.0\n",
       "50%       1.000000    28.000000     1078.040000     0.0\n",
       "75%       2.000000    45.000000     1997.197500     0.0\n",
       "max      12.000000   231.000000     9029.767000     0.0"
      ]
     },
     "execution_count": 181,
     "metadata": {},
     "output_type": "execute_result"
    },
    {
     "name": "stdout",
     "output_type": "stream",
     "text": [
      "time: 32 ms\n"
     ]
    }
   ],
   "source": [
    "rfmTable.loc[rfmTable[\"label\"] == 0].describe()"
   ]
  },
  {
   "cell_type": "code",
   "execution_count": 182,
   "metadata": {},
   "outputs": [
    {
     "data": {
      "text/html": [
       "<div>\n",
       "<style scoped>\n",
       "    .dataframe tbody tr th:only-of-type {\n",
       "        vertical-align: middle;\n",
       "    }\n",
       "\n",
       "    .dataframe tbody tr th {\n",
       "        vertical-align: top;\n",
       "    }\n",
       "\n",
       "    .dataframe thead th {\n",
       "        text-align: right;\n",
       "    }\n",
       "</style>\n",
       "<table border=\"1\" class=\"dataframe\">\n",
       "  <thead>\n",
       "    <tr style=\"text-align: right;\">\n",
       "      <th></th>\n",
       "      <th>recency</th>\n",
       "      <th>frequency</th>\n",
       "      <th>monetary_value</th>\n",
       "      <th>label</th>\n",
       "    </tr>\n",
       "  </thead>\n",
       "  <tbody>\n",
       "    <tr>\n",
       "      <th>count</th>\n",
       "      <td>552.000000</td>\n",
       "      <td>552.000000</td>\n",
       "      <td>552.000000</td>\n",
       "      <td>552.0</td>\n",
       "    </tr>\n",
       "    <tr>\n",
       "      <th>mean</th>\n",
       "      <td>1.155797</td>\n",
       "      <td>90.391304</td>\n",
       "      <td>4000.330551</td>\n",
       "      <td>1.0</td>\n",
       "    </tr>\n",
       "    <tr>\n",
       "      <th>std</th>\n",
       "      <td>1.037064</td>\n",
       "      <td>19.472232</td>\n",
       "      <td>3409.788807</td>\n",
       "      <td>0.0</td>\n",
       "    </tr>\n",
       "    <tr>\n",
       "      <th>min</th>\n",
       "      <td>0.000000</td>\n",
       "      <td>39.000000</td>\n",
       "      <td>449.098000</td>\n",
       "      <td>1.0</td>\n",
       "    </tr>\n",
       "    <tr>\n",
       "      <th>25%</th>\n",
       "      <td>0.000000</td>\n",
       "      <td>78.000000</td>\n",
       "      <td>1664.609250</td>\n",
       "      <td>1.0</td>\n",
       "    </tr>\n",
       "    <tr>\n",
       "      <th>50%</th>\n",
       "      <td>1.000000</td>\n",
       "      <td>90.000000</td>\n",
       "      <td>2383.928000</td>\n",
       "      <td>1.0</td>\n",
       "    </tr>\n",
       "    <tr>\n",
       "      <th>75%</th>\n",
       "      <td>2.000000</td>\n",
       "      <td>103.000000</td>\n",
       "      <td>7224.106250</td>\n",
       "      <td>1.0</td>\n",
       "    </tr>\n",
       "    <tr>\n",
       "      <th>max</th>\n",
       "      <td>3.000000</td>\n",
       "      <td>144.000000</td>\n",
       "      <td>14427.893000</td>\n",
       "      <td>1.0</td>\n",
       "    </tr>\n",
       "  </tbody>\n",
       "</table>\n",
       "</div>"
      ],
      "text/plain": [
       "          recency   frequency  monetary_value  label\n",
       "count  552.000000  552.000000      552.000000  552.0\n",
       "mean     1.155797   90.391304     4000.330551    1.0\n",
       "std      1.037064   19.472232     3409.788807    0.0\n",
       "min      0.000000   39.000000      449.098000    1.0\n",
       "25%      0.000000   78.000000     1664.609250    1.0\n",
       "50%      1.000000   90.000000     2383.928000    1.0\n",
       "75%      2.000000  103.000000     7224.106250    1.0\n",
       "max      3.000000  144.000000    14427.893000    1.0"
      ]
     },
     "execution_count": 182,
     "metadata": {},
     "output_type": "execute_result"
    },
    {
     "name": "stdout",
     "output_type": "stream",
     "text": [
      "time: 24 ms\n"
     ]
    }
   ],
   "source": [
    "rfmTable.loc[rfmTable[\"label\"] == 1].describe()"
   ]
  },
  {
   "cell_type": "code",
   "execution_count": 183,
   "metadata": {},
   "outputs": [
    {
     "data": {
      "text/html": [
       "<div>\n",
       "<style scoped>\n",
       "    .dataframe tbody tr th:only-of-type {\n",
       "        vertical-align: middle;\n",
       "    }\n",
       "\n",
       "    .dataframe tbody tr th {\n",
       "        vertical-align: top;\n",
       "    }\n",
       "\n",
       "    .dataframe thead th {\n",
       "        text-align: right;\n",
       "    }\n",
       "</style>\n",
       "<table border=\"1\" class=\"dataframe\">\n",
       "  <thead>\n",
       "    <tr style=\"text-align: right;\">\n",
       "      <th></th>\n",
       "      <th>recency</th>\n",
       "      <th>frequency</th>\n",
       "      <th>monetary_value</th>\n",
       "      <th>label</th>\n",
       "    </tr>\n",
       "  </thead>\n",
       "  <tbody>\n",
       "    <tr>\n",
       "      <th>count</th>\n",
       "      <td>1006.000000</td>\n",
       "      <td>1006.000000</td>\n",
       "      <td>1006.000000</td>\n",
       "      <td>1006.0</td>\n",
       "    </tr>\n",
       "    <tr>\n",
       "      <th>mean</th>\n",
       "      <td>2.903579</td>\n",
       "      <td>67.142147</td>\n",
       "      <td>5041.344796</td>\n",
       "      <td>2.0</td>\n",
       "    </tr>\n",
       "    <tr>\n",
       "      <th>std</th>\n",
       "      <td>12.922565</td>\n",
       "      <td>41.156160</td>\n",
       "      <td>2677.301870</td>\n",
       "      <td>0.0</td>\n",
       "    </tr>\n",
       "    <tr>\n",
       "      <th>min</th>\n",
       "      <td>0.000000</td>\n",
       "      <td>1.000000</td>\n",
       "      <td>5.930000</td>\n",
       "      <td>2.0</td>\n",
       "    </tr>\n",
       "    <tr>\n",
       "      <th>25%</th>\n",
       "      <td>1.000000</td>\n",
       "      <td>44.000000</td>\n",
       "      <td>4050.885000</td>\n",
       "      <td>2.0</td>\n",
       "    </tr>\n",
       "    <tr>\n",
       "      <th>50%</th>\n",
       "      <td>1.000000</td>\n",
       "      <td>59.000000</td>\n",
       "      <td>4641.625000</td>\n",
       "      <td>2.0</td>\n",
       "    </tr>\n",
       "    <tr>\n",
       "      <th>75%</th>\n",
       "      <td>2.000000</td>\n",
       "      <td>79.000000</td>\n",
       "      <td>5645.266500</td>\n",
       "      <td>2.0</td>\n",
       "    </tr>\n",
       "    <tr>\n",
       "      <th>max</th>\n",
       "      <td>281.000000</td>\n",
       "      <td>339.000000</td>\n",
       "      <td>64440.013000</td>\n",
       "      <td>2.0</td>\n",
       "    </tr>\n",
       "  </tbody>\n",
       "</table>\n",
       "</div>"
      ],
      "text/plain": [
       "           recency    frequency  monetary_value   label\n",
       "count  1006.000000  1006.000000     1006.000000  1006.0\n",
       "mean      2.903579    67.142147     5041.344796     2.0\n",
       "std      12.922565    41.156160     2677.301870     0.0\n",
       "min       0.000000     1.000000        5.930000     2.0\n",
       "25%       1.000000    44.000000     4050.885000     2.0\n",
       "50%       1.000000    59.000000     4641.625000     2.0\n",
       "75%       2.000000    79.000000     5645.266500     2.0\n",
       "max     281.000000   339.000000    64440.013000     2.0"
      ]
     },
     "execution_count": 183,
     "metadata": {},
     "output_type": "execute_result"
    },
    {
     "name": "stdout",
     "output_type": "stream",
     "text": [
      "time: 36 ms\n"
     ]
    }
   ],
   "source": [
    "rfmTable.loc[rfmTable[\"label\"] == 2].describe()"
   ]
  },
  {
   "cell_type": "code",
   "execution_count": 187,
   "metadata": {},
   "outputs": [
    {
     "data": {
      "text/html": [
       "<div>\n",
       "<style scoped>\n",
       "    .dataframe tbody tr th:only-of-type {\n",
       "        vertical-align: middle;\n",
       "    }\n",
       "\n",
       "    .dataframe tbody tr th {\n",
       "        vertical-align: top;\n",
       "    }\n",
       "\n",
       "    .dataframe thead th {\n",
       "        text-align: right;\n",
       "    }\n",
       "</style>\n",
       "<table border=\"1\" class=\"dataframe\">\n",
       "  <thead>\n",
       "    <tr style=\"text-align: right;\">\n",
       "      <th></th>\n",
       "      <th>recency</th>\n",
       "      <th>frequency</th>\n",
       "      <th>monetary_value</th>\n",
       "    </tr>\n",
       "  </thead>\n",
       "  <tbody>\n",
       "    <tr>\n",
       "      <th>count</th>\n",
       "      <td>248.000000</td>\n",
       "      <td>248.000000</td>\n",
       "      <td>248.000000</td>\n",
       "    </tr>\n",
       "    <tr>\n",
       "      <th>mean</th>\n",
       "      <td>53.560484</td>\n",
       "      <td>10.415323</td>\n",
       "      <td>1452.672371</td>\n",
       "    </tr>\n",
       "    <tr>\n",
       "      <th>std</th>\n",
       "      <td>77.253122</td>\n",
       "      <td>12.110193</td>\n",
       "      <td>2027.051263</td>\n",
       "    </tr>\n",
       "    <tr>\n",
       "      <th>min</th>\n",
       "      <td>0.000000</td>\n",
       "      <td>1.000000</td>\n",
       "      <td>23.110000</td>\n",
       "    </tr>\n",
       "    <tr>\n",
       "      <th>25%</th>\n",
       "      <td>2.000000</td>\n",
       "      <td>2.000000</td>\n",
       "      <td>180.495000</td>\n",
       "    </tr>\n",
       "    <tr>\n",
       "      <th>50%</th>\n",
       "      <td>14.000000</td>\n",
       "      <td>5.000000</td>\n",
       "      <td>563.599500</td>\n",
       "    </tr>\n",
       "    <tr>\n",
       "      <th>75%</th>\n",
       "      <td>83.750000</td>\n",
       "      <td>14.000000</td>\n",
       "      <td>1878.688750</td>\n",
       "    </tr>\n",
       "    <tr>\n",
       "      <th>max</th>\n",
       "      <td>302.000000</td>\n",
       "      <td>58.000000</td>\n",
       "      <td>11711.326000</td>\n",
       "    </tr>\n",
       "  </tbody>\n",
       "</table>\n",
       "</div>"
      ],
      "text/plain": [
       "          recency   frequency  monetary_value\n",
       "count  248.000000  248.000000      248.000000\n",
       "mean    53.560484   10.415323     1452.672371\n",
       "std     77.253122   12.110193     2027.051263\n",
       "min      0.000000    1.000000       23.110000\n",
       "25%      2.000000    2.000000      180.495000\n",
       "50%     14.000000    5.000000      563.599500\n",
       "75%     83.750000   14.000000     1878.688750\n",
       "max    302.000000   58.000000    11711.326000"
      ]
     },
     "execution_count": 187,
     "metadata": {},
     "output_type": "execute_result"
    },
    {
     "name": "stdout",
     "output_type": "stream",
     "text": [
      "time: 140 ms\n"
     ]
    }
   ],
   "source": [
    "rfmTable_online = df_online.groupby(\"cx_id\").agg(\n",
    "    {\n",
    "        \"order_date\": lambda x: (Day_baseline - x.max()).days,\n",
    "        \"order_number\": lambda x: len(x),\n",
    "        \"order_sales\": lambda x: x.sum(),\n",
    "    }\n",
    ")\n",
    "rfmTable_online[\"order_date\"] = rfmTable_online[\"order_date\"].astype(int)\n",
    "rfmTable_online.rename(\n",
    "    columns={\n",
    "        \"order_date\": \"recency\",\n",
    "        \"order_number\": \"frequency\",\n",
    "        \"order_sales\": \"monetary_value\",\n",
    "    },\n",
    "    inplace=True,\n",
    ")\n",
    "rfmTable_online.describe()"
   ]
  },
  {
   "cell_type": "markdown",
   "metadata": {},
   "source": [
    "# Compare online and offline RFM groups"
   ]
  }
 ],
 "metadata": {
  "kernelspec": {
   "display_name": "Python 3",
   "language": "python",
   "name": "python3"
  },
  "language_info": {
   "codemirror_mode": {
    "name": "ipython",
    "version": 3
   },
   "file_extension": ".py",
   "mimetype": "text/x-python",
   "name": "python",
   "nbconvert_exporter": "python",
   "pygments_lexer": "ipython3",
   "version": "3.7.5"
  }
 },
 "nbformat": 4,
 "nbformat_minor": 4
}
